{
  "nbformat": 4,
  "nbformat_minor": 0,
  "metadata": {
    "colab": {
      "name": "Query.ipynb",
      "provenance": [],
      "collapsed_sections": [],
      "include_colab_link": true
    },
    "kernelspec": {
      "name": "python3",
      "display_name": "Python 3"
    }
  },
  "cells": [
    {
      "cell_type": "markdown",
      "metadata": {
        "id": "view-in-github",
        "colab_type": "text"
      },
      "source": [
        "<a href=\"https://colab.research.google.com/github/akihiros/ngrams/blob/master/Query.ipynb\" target=\"_parent\"><img src=\"https://colab.research.google.com/assets/colab-badge.svg\" alt=\"Open In Colab\"/></a>"
      ]
    },
    {
      "cell_type": "markdown",
      "metadata": {
        "id": "xkWovPaZI_Go",
        "colab_type": "text"
      },
      "source": [
        "# ベクトル空間モデル\n",
        "\n",
        "- 文書集合のベクトル空間モデルを作成し、クエリに対して類似度計算する"
      ]
    },
    {
      "cell_type": "code",
      "metadata": {
        "id": "rjpWWIcQHaXz",
        "colab_type": "code",
        "colab": {
          "base_uri": "https://localhost:8080/",
          "height": 127
        },
        "outputId": "01decc76-3340-40ea-834b-6a1e807ce8b0"
      },
      "source": [
        "!pip install janome"
      ],
      "execution_count": 6,
      "outputs": [
        {
          "output_type": "stream",
          "text": [
            "Collecting janome\n",
            "\u001b[?25l  Downloading https://files.pythonhosted.org/packages/79/f0/bd7f90806132d7d9d642d418bdc3e870cfdff5947254ea3cab27480983a7/Janome-0.3.10-py2.py3-none-any.whl (21.5MB)\n",
            "\u001b[K     |████████████████████████████████| 21.5MB 107kB/s \n",
            "\u001b[?25hInstalling collected packages: janome\n",
            "Successfully installed janome-0.3.10\n"
          ],
          "name": "stdout"
        }
      ]
    },
    {
      "cell_type": "markdown",
      "metadata": {
        "id": "lRqt2TSSKNYc",
        "colab_type": "text"
      },
      "source": [
        "## 演習10.1 文字列抽出"
      ]
    },
    {
      "cell_type": "code",
      "metadata": {
        "id": "_2IcfjwjG0CY",
        "colab_type": "code",
        "colab": {}
      },
      "source": [
        "# n-gramに分割する関数：nで指定\n",
        "def n_gram(target, n):\n",
        "  return [target[idx:idx + n] for idx in range(len(target) - n + 1)]"
      ],
      "execution_count": 0,
      "outputs": []
    },
    {
      "cell_type": "code",
      "metadata": {
        "id": "RGkdBISnG3oq",
        "colab_type": "code",
        "colab": {
          "base_uri": "https://localhost:8080/",
          "height": 55
        },
        "outputId": "9ec53bae-a58a-4e85-cdce-7a4c7c2bba63"
      },
      "source": [
        "# 単語単位で3-gramに分割\n",
        "from janome.tokenizer import Tokenizer\n",
        "\n",
        "t = Tokenizer(wakati=True)\n",
        "s = \"兎や、キツネのほかに、イタチの足あと、ネズミの足あと、猫の足あと、みんなちがう。\"\n",
        "words = t.tokenize(s)\n",
        "\n",
        "print(n_gram(words, 3))"
      ],
      "execution_count": 8,
      "outputs": [
        {
          "output_type": "stream",
          "text": [
            "[['兎', 'や', '、'], ['や', '、', 'キツネ'], ['、', 'キツネ', 'の'], ['キツネ', 'の', 'ほか'], ['の', 'ほか', 'に'], ['ほか', 'に', '、'], ['に', '、', 'イタチ'], ['、', 'イタチ', 'の'], ['イタチ', 'の', '足'], ['の', '足', 'あと'], ['足', 'あと', '、'], ['あと', '、', 'ネズミ'], ['、', 'ネズミ', 'の'], ['ネズミ', 'の', '足'], ['の', '足', 'あと'], ['足', 'あと', '、'], ['あと', '、', '猫'], ['、', '猫', 'の'], ['猫', 'の', '足'], ['の', '足', 'あと'], ['足', 'あと', '、'], ['あと', '、', 'みんな'], ['、', 'みんな', 'ちがう'], ['みんな', 'ちがう', '。']]\n"
          ],
          "name": "stdout"
        }
      ]
    },
    {
      "cell_type": "code",
      "metadata": {
        "id": "zDuOKTLxHE0w",
        "colab_type": "code",
        "colab": {
          "base_uri": "https://localhost:8080/",
          "height": 55
        },
        "outputId": "2fa7f4ea-6d67-4338-fa3f-c68039401b9a"
      },
      "source": [
        "# 文字単位で3-gramに分割\n",
        "chars = list(s)\n",
        "print(n_gram(chars, 3))"
      ],
      "execution_count": 12,
      "outputs": [
        {
          "output_type": "stream",
          "text": [
            "[['兎', 'や', '、'], ['や', '、', 'キ'], ['、', 'キ', 'ツ'], ['キ', 'ツ', 'ネ'], ['ツ', 'ネ', 'の'], ['ネ', 'の', 'ほ'], ['の', 'ほ', 'か'], ['ほ', 'か', 'に'], ['か', 'に', '、'], ['に', '、', 'イ'], ['、', 'イ', 'タ'], ['イ', 'タ', 'チ'], ['タ', 'チ', 'の'], ['チ', 'の', '足'], ['の', '足', 'あ'], ['足', 'あ', 'と'], ['あ', 'と', '、'], ['と', '、', 'ネ'], ['、', 'ネ', 'ズ'], ['ネ', 'ズ', 'ミ'], ['ズ', 'ミ', 'の'], ['ミ', 'の', '足'], ['の', '足', 'あ'], ['足', 'あ', 'と'], ['あ', 'と', '、'], ['と', '、', '猫'], ['、', '猫', 'の'], ['猫', 'の', '足'], ['の', '足', 'あ'], ['足', 'あ', 'と'], ['あ', 'と', '、'], ['と', '、', 'み'], ['、', 'み', 'ん'], ['み', 'ん', 'な'], ['ん', 'な', 'ち'], ['な', 'ち', 'が'], ['ち', 'が', 'う'], ['が', 'う', '。']]\n"
          ],
          "name": "stdout"
        }
      ]
    },
    {
      "cell_type": "markdown",
      "metadata": {
        "id": "-yvrGBjLKUtA",
        "colab_type": "text"
      },
      "source": [
        "## 演習10.2 クエリに対する類似度計算"
      ]
    },
    {
      "cell_type": "code",
      "metadata": {
        "id": "hlM1s4S-IfCi",
        "colab_type": "code",
        "colab": {}
      },
      "source": [
        "# 文書集合\n",
        "doc = ['フィギュアスケートのグランプリファイナルは、カナダのバンクーバーで開幕し、女子ショートプログラムで、紀平梨花が首位に立った。',\n",
        "       'フィギュアのグランプリファイナルは、宇野昌磨は２位発進となった。',\n",
        "       'フィギュアスケート男子の羽生結弦の年内復帰が難しくなった。日本スケート連盟はカナダのグランプリファイナル欠場を発表した。',\n",
        "       'フィギュア男子',\n",
        "       'スケート女子']"
      ],
      "execution_count": 0,
      "outputs": []
    },
    {
      "cell_type": "code",
      "metadata": {
        "id": "EqhZv92vNVjc",
        "colab_type": "code",
        "colab": {
          "base_uri": "https://localhost:8080/",
          "height": 109
        },
        "outputId": "c9f160d4-e471-4f7c-cd2e-c6a3eab4dea1"
      },
      "source": [
        "import numpy as np\n",
        "from janome.tokenizer import Tokenizer\n",
        " \n",
        "t = Tokenizer()\n",
        "\n",
        "docs = np.array([])\n",
        "\n",
        "for i in range(len(doc)):\n",
        "    tokens = t.tokenize(doc[i])\n",
        "    noun_list = np.array([])\n",
        "\n",
        "    for token in tokens:\n",
        "        # 品詞を取り出し\n",
        "        partOfSpeech = token.part_of_speech.split(',')[0]\n",
        "    \n",
        "        if partOfSpeech == u'名詞':\n",
        "            noun_list = np.append(noun_list, token.surface)\n",
        "\n",
        "    noun_list = ' '.join(noun_list)  # 名詞のリスト\n",
        "    docs = np.append(docs, noun_list)  # 文書数×名詞のリスト\n",
        "\n",
        "print(docs)"
      ],
      "execution_count": 85,
      "outputs": [
        {
          "output_type": "stream",
          "text": [
            "['フィギュア スケート グランプリ ファイナル カナダ バンクーバー 開幕 女子 ショートプログラム 紀平 梨花 首位'\n",
            " 'フィギュア グランプリ ファイナル 宇野 昌 磨 ２ 位 発進'\n",
            " 'フィギュア スケート 男子 羽生 結 弦 年内 復帰 日本 スケート 連盟 カナダ グランプリ ファイナル 欠場 発表' 'フィギュア 男子'\n",
            " 'スケート 女子']\n"
          ],
          "name": "stdout"
        }
      ]
    },
    {
      "cell_type": "code",
      "metadata": {
        "id": "aG9mf9YFPVg8",
        "colab_type": "code",
        "colab": {
          "base_uri": "https://localhost:8080/",
          "height": 197
        },
        "outputId": "8b221c69-19ab-4ce0-fc28-9a2aeed49ad4"
      },
      "source": [
        "# TF-IDF\n",
        "from sklearn.feature_extraction.text import TfidfVectorizer\n",
        " \n",
        "np.set_printoptions(precision=2)\n",
        " \n",
        "vectorizer = TfidfVectorizer(use_idf=True, token_pattern=u'(?u)\\\\b\\\\w+\\\\b')\n",
        "vecs = vectorizer.fit_transform(docs)\n",
        " \n",
        "print(vecs.toarray())"
      ],
      "execution_count": 86,
      "outputs": [
        {
          "output_type": "stream",
          "text": [
            "[[0.27 0.22 0.33 0.22 0.33 0.22 0.19 0.   0.27 0.   0.   0.   0.   0.\n",
            "  0.   0.33 0.   0.   0.   0.   0.   0.33 0.   0.   0.   0.33 0.33 0.  ]\n",
            " [0.   0.25 0.   0.   0.   0.25 0.21 0.37 0.   0.37 0.   0.   0.   0.\n",
            "  0.37 0.   0.   0.   0.   0.37 0.37 0.   0.   0.   0.   0.   0.   0.37]\n",
            " [0.22 0.18 0.   0.37 0.   0.18 0.15 0.   0.   0.   0.27 0.27 0.27 0.27\n",
            "  0.   0.   0.27 0.22 0.27 0.   0.   0.   0.27 0.27 0.27 0.   0.   0.  ]\n",
            " [0.   0.   0.   0.   0.   0.   0.57 0.   0.   0.   0.   0.   0.   0.\n",
            "  0.   0.   0.   0.82 0.   0.   0.   0.   0.   0.   0.   0.   0.   0.  ]\n",
            " [0.   0.   0.   0.64 0.   0.   0.   0.   0.77 0.   0.   0.   0.   0.\n",
            "  0.   0.   0.   0.   0.   0.   0.   0.   0.   0.   0.   0.   0.   0.  ]]\n"
          ],
          "name": "stdout"
        }
      ]
    },
    {
      "cell_type": "code",
      "metadata": {
        "id": "TXsiH8wRQHnV",
        "colab_type": "code",
        "colab": {
          "base_uri": "https://localhost:8080/",
          "height": 521
        },
        "outputId": "57b247bf-3a15-4d88-b00d-3ba336f3599f"
      },
      "source": [
        "for k,v in sorted(vectorizer.vocabulary_.items(), key=lambda x:x[1]):\n",
        "    print(k,v)"
      ],
      "execution_count": 87,
      "outputs": [
        {
          "output_type": "stream",
          "text": [
            "カナダ 0\n",
            "グランプリ 1\n",
            "ショートプログラム 2\n",
            "スケート 3\n",
            "バンクーバー 4\n",
            "ファイナル 5\n",
            "フィギュア 6\n",
            "位 7\n",
            "女子 8\n",
            "宇野 9\n",
            "年内 10\n",
            "弦 11\n",
            "復帰 12\n",
            "日本 13\n",
            "昌 14\n",
            "梨花 15\n",
            "欠場 16\n",
            "男子 17\n",
            "発表 18\n",
            "発進 19\n",
            "磨 20\n",
            "紀平 21\n",
            "結 22\n",
            "羽生 23\n",
            "連盟 24\n",
            "開幕 25\n",
            "首位 26\n",
            "２ 27\n"
          ],
          "name": "stdout"
        }
      ]
    },
    {
      "cell_type": "code",
      "metadata": {
        "id": "21UYpTMiQQHY",
        "colab_type": "code",
        "colab": {
          "base_uri": "https://localhost:8080/",
          "height": 53
        },
        "outputId": "fe0500a5-5132-4bfe-d2c2-f71256c54a0e"
      },
      "source": [
        "# コサイン類似度\n",
        "def cos_sim(v1, v2):\n",
        "    return np.dot(v1, v2) / (np.linalg.norm(v1) * np.linalg.norm(v2))\n",
        "\n",
        "#TODO:クエリから名詞を抜き出して、kを検索して一致すればvを抜き出す\n",
        "#TODO:vと一致するvecs.toarray()TF-IDFを検索し、Yとする\n",
        "#TODO:Xは上記同様クエリに対するTF-IDFを計算する\n",
        "\n",
        "# 面倒なので手打ちする\n",
        "delta = 1e-7\n",
        "\n",
        "X = np.array([0.57, 0.82])  # フィギュア男子：6, 17\n",
        "D1 = np.array([0.19, 0.])  #doc1の重み\n",
        "D2 = np.array([0.21, 0.])\n",
        "D3 = np.array([0.15, 0.22])\n",
        "print(np.dot(X, D1), np.dot(X, D2), np.dot(X, D3))  # 内積計算\n",
        "# print(cos_sim(X, D1), cos_sim(X, D2), cos_sim(X, D3))\n",
        "\n",
        "X = np.array([0.64, 0.77])  # スケート女子\n",
        "D1 = np.array([0.22, 0.27])\n",
        "D2 = np.array([0., 0.])\n",
        "D3 = np.array([0.37, 0.])\n",
        "print(np.dot(X, D1), np.dot(X, D2), np.dot(X, D3))\n",
        "# print(cos_sim(X, D1), cos_sim(X, D2), cos_sim(X, D3))"
      ],
      "execution_count": 118,
      "outputs": [
        {
          "output_type": "stream",
          "text": [
            "0.1083 0.11969999999999999 0.26589999999999997\n",
            "0.3487 0.0 0.2368\n"
          ],
          "name": "stdout"
        }
      ]
    },
    {
      "cell_type": "code",
      "metadata": {
        "id": "JPN1zYgzobg-",
        "colab_type": "code",
        "colab": {
          "base_uri": "https://localhost:8080/",
          "height": 35
        },
        "outputId": "9f98ab81-128f-424c-dd11-12c22b393da4"
      },
      "source": [
        "# 例題の再現が微妙。おそらく明示されていない小数点の影響。\n",
        "X = np.array([0.35, 0.94])\n",
        "D1 = np.array([0., 0.])\n",
        "D2 = np.array([0.18, 0.])\n",
        "D3 = np.array([0.16, 0.43])\n",
        "print(np.dot(X, D1), np.dot(X, D2), np.dot(X, D3))"
      ],
      "execution_count": 116,
      "outputs": [
        {
          "output_type": "stream",
          "text": [
            "0.0 0.063 0.46019999999999994\n"
          ],
          "name": "stdout"
        }
      ]
    },
    {
      "cell_type": "code",
      "metadata": {
        "id": "j4NacyRGq0z1",
        "colab_type": "code",
        "colab": {}
      },
      "source": [
        ""
      ],
      "execution_count": 0,
      "outputs": []
    }
  ]
}