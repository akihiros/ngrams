{
  "nbformat": 4,
  "nbformat_minor": 0,
  "metadata": {
    "colab": {
      "name": "Morphological_analysis.ipynb",
      "provenance": [],
      "include_colab_link": true
    },
    "kernelspec": {
      "name": "python3",
      "display_name": "Python 3"
    }
  },
  "cells": [
    {
      "cell_type": "markdown",
      "metadata": {
        "id": "view-in-github",
        "colab_type": "text"
      },
      "source": [
        "<a href=\"https://colab.research.google.com/github/akihiros/ngrams/blob/master/Morphological_analysis.ipynb\" target=\"_parent\"><img src=\"https://colab.research.google.com/assets/colab-badge.svg\" alt=\"Open In Colab\"/></a>"
      ]
    },
    {
      "cell_type": "markdown",
      "metadata": {
        "id": "G3dIfZUQLWsb",
        "colab_type": "text"
      },
      "source": [
        "# 演習11 適当解説\n",
        "\n",
        "## 準備\n",
        "\n",
        "- cabochaで固有表現抽出した結果を'shinbun_result.txt'として保存すること。\n",
        "  - コマンド例：cabocha -f1 -n1 < shinbun.txt -o shinbun_result.txt\n",
        "  - 各オプションは調べれば出るので割愛"
      ]
    },
    {
      "cell_type": "code",
      "metadata": {
        "id": "GpVIzwapKvjp",
        "colab_type": "code",
        "colab": {
          "base_uri": "https://localhost:8080/",
          "height": 176
        },
        "outputId": "586105b5-455b-4e5e-b244-cd250ad61b68"
      },
      "source": [
        "import numpy as np\n",
        "\n",
        "ORG = []\n",
        "PERSON = []\n",
        "LOCATION = []\n",
        "DATE = []\n",
        "TIME = []\n",
        "MONEY = []\n",
        "PERCENT = []\n",
        "ARTIFACT = []\n",
        "\n",
        "with open('shinbun_result.txt', mode='rt', encoding='utf-8') as f:\n",
        "    read_line = f.readlines()\n",
        "    for i in range(len(read_line)):\n",
        "        # 1行ずつ読み込んで固有表現があれば判別し\n",
        "        # tabで分割した[0]（固有表現）をリストに追加\n",
        "        if 'B-ORGANIZATION' in read_line[i]:\n",
        "            ORG.append(read_line[i].split('\\t', 1)[0])\n",
        "        if 'B-PERSON' in read_line[i]:\n",
        "            PERSON.append(read_line[i].split('\\t', 1)[0])\n",
        "        if 'B-LOCATION' in read_line[i]:\n",
        "            LOCATION.append(read_line[i].split('\\t', 1)[0])\n",
        "        if 'B-DATE' in read_line[i]:\n",
        "            DATE.append(read_line[i].split('\\t', 1)[0])\n",
        "        if 'B-TIME' in read_line[i]:\n",
        "            TIME.append(read_line[i].split('\\t', 1)[0])\n",
        "        if 'B-MONEY' in read_line[i]:\n",
        "            MONEY.append(read_line[i].split('\\t', 1)[0])\n",
        "        if 'B-PERCENT' in read_line[i]:\n",
        "            PERCENT.append(read_line[i].split('\\t', 1)[0])\n",
        "        if 'B-ARTIFACT' in read_line[i]:\n",
        "            ARTIFACT.append(read_line[i].split('\\t', 1)[0])\n",
        "\n",
        "print('(ORGANIZATION) {}\\n(PERSON) {}\\n(LOCATION) {}\\n(DATE) {}\\n(TIME) {}\\n(MONEY) {}\\n(PERCENT) {}\\n(ARTIFACT) {}'.format(set(ORG), set(PERSON), set(LOCATION), set(DATE),set(TIME), set(MONEY), set(PERCENT), set(ARTIFACT)))"
      ],
      "execution_count": 34,
      "outputs": [
        {
          "output_type": "stream",
          "text": [
            "(ORGANIZATION) {'自由民主党', 'HOYA', '下院', 'EU', '日本', '影', '日銀', '吉本興業', '労働党', '保守党', '米', '財務', 'スマート', '日経', '文化庁', '自民党', '欧州', '東芝', 'BBC'}\n",
            "(PERSON) {'フォンデアライエン', 'シニア', 'コービン', '石毛', 'ジョンソン', '桂', 'マクド', 'トランプ', '安藤', 'サッチャー', 'ミシェル', '宮田', 'ホワイトハウス', 'コシノ', '大崎', '竹内', 'メイ', 'ナバロ', '篠崎'}\n",
            "(LOCATION) {'ポーランド', '欧州', '米国', 'ブリュッセル', '東京', 'チェコ', 'ホワイトハウス', 'スコットランド', '関西', 'ロンドン', '中', '米', '北アイルランド', 'アジア', 'ハンガリー', 'スペイン', '英国', '日本', 'マドリード', '大阪', '英', '中国'}\n",
            "(DATE) {'18', '今日', '1987', '2025', '1950', '13', '2018', '15', '17', '前日', '20', '2017', '12', '50', '14', '27', '2050'}\n",
            "(TIME) {'午後', '未明'}\n",
            "(MONEY) {'1477', '619', '2', '1', '500', '1000', '12'}\n",
            "(PERCENT) {'7', '1'}\n",
            "(ARTIFACT) {'マイナス', 'EU', 'フォト', '供給', '第', 'USTR', 'NHS', 'DI', 'CO', 'ノーベル', 'SNP', 'ワシントン', 'プラス', 'IR'}\n"
          ],
          "name": "stdout"
        }
      ]
    }
  ]
}