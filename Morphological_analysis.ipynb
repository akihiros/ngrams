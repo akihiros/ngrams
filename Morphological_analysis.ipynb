{
  "nbformat": 4,
  "nbformat_minor": 0,
  "metadata": {
    "colab": {
      "name": "Morphological_analysis.ipynb",
      "provenance": [],
      "collapsed_sections": [],
      "include_colab_link": true
    },
    "kernelspec": {
      "name": "python3",
      "display_name": "Python 3"
    }
  },
  "cells": [
    {
      "cell_type": "markdown",
      "metadata": {
        "id": "view-in-github",
        "colab_type": "text"
      },
      "source": [
        "<a href=\"https://colab.research.google.com/github/akihiros/ngrams/blob/master/Morphological_analysis.ipynb\" target=\"_parent\"><img src=\"https://colab.research.google.com/assets/colab-badge.svg\" alt=\"Open In Colab\"/></a>"
      ]
    },
    {
      "cell_type": "markdown",
      "metadata": {
        "id": "G3dIfZUQLWsb",
        "colab_type": "text"
      },
      "source": [
        "# 演習11 適当解説\n",
        "\n",
        "## 準備\n",
        "\n",
        "- cabochaで固有表現抽出した結果を'shinbun_result.txt'として保存すること。\n",
        "  - コマンド例：cabocha -f1 -n1 < shinbun.txt -o shinbun_result.txt\n",
        "  - 各オプションは調べれば出るので割愛\n",
        "  - ファイルはカレントディレクトリにupしているとする"
      ]
    },
    {
      "cell_type": "code",
      "metadata": {
        "id": "ZGJDpEwKJks9",
        "colab_type": "code",
        "outputId": "ceaa9646-feeb-4ce8-9a27-4e599d05b4d2",
        "colab": {
          "base_uri": "https://localhost:8080/",
          "height": 211
        }
      },
      "source": [
        "# 1行ずつ読み込んで固有表現があれば判別し\n",
        "# tabで分割した[0]（固有表現）を集合に追加\n",
        "%%time\n",
        "ORG = set()\n",
        "PERSON = set()\n",
        "LOCATION = set()\n",
        "DATE = set()\n",
        "TIME = set()\n",
        "MONEY = set()\n",
        "PERCENT = set()\n",
        "ARTIFACT = set()\n",
        "\n",
        "with open('shinbun_result.txt', mode='rt', encoding='utf-8') as f:\n",
        "    read_line = f.readlines()\n",
        "    for i in range(len(read_line)):\n",
        "        r = read_line[i]\n",
        "        w = r.split('\\t', 1)[0]\n",
        "\n",
        "        if 'B-ORGANIZATION' in r: ORG.add(w)\n",
        "        elif 'B-PERSON' in r: PERSON.add(w)\n",
        "        elif 'B-LOCATION' in r: LOCATION.add(w)\n",
        "        elif 'B-DATE' in r: DATE.add(w)\n",
        "        elif 'B-TIME' in r: TIME.add(w)\n",
        "        elif 'B-MONEY' in r: MONEY.add(w)\n",
        "        elif 'B-PERCENT' in r: PERCENT.add(w)\n",
        "        elif 'B-ARTIFACT' in r: ARTIFACT.add(w)\n",
        "\n",
        "print('(ORGANIZATION) {}\\n(PERSON) {}\\n(LOCATION) {}\\n(DATE) {}\\n(TIME) {}\\n(MONEY) {}\\n(PERCENT) {}\\n(ARTIFACT) {}'.format(\n",
        "    ORG, PERSON, LOCATION, DATE, TIME, MONEY, PERCENT, ARTIFACT))"
      ],
      "execution_count": 0,
      "outputs": [
        {
          "output_type": "stream",
          "text": [
            "(ORGANIZATION) {'東芝', '吉本興業', '保守党', 'EU', '影', 'BBC', 'スマート', '米', '文化庁', '自民党', '財務', '欧州', '日銀', '日本', 'HOYA', '下院', '自由民主党', '日経', '労働党'}\n",
            "(PERSON) {'宮田', 'サッチャー', '竹内', 'フォンデアライエン', 'ミシェル', '石毛', 'コシノ', '大崎', '桂', 'ナバロ', 'ホワイトハウス', 'シニア', 'マクド', '篠崎', '安藤', 'コービン', 'トランプ', 'メイ', 'ジョンソン'}\n",
            "(LOCATION) {'ブリュッセル', 'ポーランド', '米国', 'スコットランド', '中', 'アジア', '中国', '北アイルランド', 'ホワイトハウス', '欧州', 'チェコ', '英国', '大阪', 'ハンガリー', '東京', 'ロンドン', '米', 'スペイン', 'マドリード', '英', '関西', '日本'}\n",
            "(DATE) {'18', '17', '前日', '12', '2025', '2017', '13', '14', '1987', '50', '1950', '2018', '15', '20', '今日', '27', '2050'}\n",
            "(TIME) {'午後', '未明'}\n",
            "(MONEY) {'500', '12', '1', '619', '1000', '1477', '2'}\n",
            "(PERCENT) {'1', '7'}\n",
            "(ARTIFACT) {'NHS', '供給', 'DI', 'ノーベル', 'ワシントン', 'マイナス', 'プラス', 'CO', 'USTR', 'フォト', 'IR', 'EU', '第', 'SNP'}\n",
            "CPU times: user 7.18 ms, sys: 0 ns, total: 7.18 ms\n",
            "Wall time: 7.35 ms\n"
          ],
          "name": "stdout"
        }
      ]
    },
    {
      "cell_type": "code",
      "metadata": {
        "id": "4LDIKKNpAosC",
        "colab_type": "code",
        "outputId": "d92564fd-6d3b-4998-a7a7-a8f4a5b55133",
        "colab": {
          "base_uri": "https://localhost:8080/",
          "height": 211
        }
      },
      "source": [
        "# 別解：無理やりset内包表記\n",
        "# 速度はfor文を何度も回しているが意外とどっこいどっこい\n",
        "\n",
        "%%time\n",
        "with open('shinbun_result.txt', mode='rt', encoding='utf-8') as f:\n",
        "    read_line = f.readlines()\n",
        "    N = len(read_line)\n",
        "\n",
        "    ORG = {read_line[i].split('\\t', 1)[0] for i in range(N) if 'B-ORGANIZATION' in read_line[i]}\n",
        "    PERSON = {read_line[i].split('\\t', 1)[0] for i in range(N) if 'B-PERSON' in read_line[i]}\n",
        "    LOCATION = {read_line[i].split('\\t', 1)[0] for i in range(N) if 'B-LOCATION' in read_line[i]}\n",
        "    DATE = {read_line[i].split('\\t', 1)[0] for i in range(N) if 'B-DATE' in read_line[i]}\n",
        "    TIME = {read_line[i].split('\\t', 1)[0] for i in range(N) if 'B-TIME' in read_line[i]}\n",
        "    MONEY = {read_line[i].split('\\t', 1)[0] for i in range(N) if 'B-MONEY' in read_line[i]}\n",
        "    PERCENT = {read_line[i].split('\\t', 1)[0] for i in range(N) if 'B-PERCENT' in read_line[i]}\n",
        "    ARTIFACT = {read_line[i].split('\\t', 1)[0] for i in range(N) if 'B-ARTIFACT' in read_line[i]}\n",
        "\n",
        "print('(ORGANIZATION) {}\\n(PERSON) {}\\n(LOCATION) {}\\n(DATE) {}\\n(TIME) {}\\n(MONEY) {}\\n(PERCENT) {}\\n(ARTIFACT) {}'.format(\n",
        "    ORG, PERSON, LOCATION, DATE, TIME, MONEY, PERCENT, ARTIFACT))"
      ],
      "execution_count": 0,
      "outputs": [
        {
          "output_type": "stream",
          "text": [
            "(ORGANIZATION) {'東芝', '吉本興業', '保守党', 'EU', '影', 'BBC', 'スマート', '米', '文化庁', '自民党', '財務', '欧州', '日銀', '日本', 'HOYA', '下院', '自由民主党', '日経', '労働党'}\n",
            "(PERSON) {'宮田', 'サッチャー', '竹内', 'フォンデアライエン', 'ミシェル', '石毛', 'コシノ', '大崎', '桂', 'ナバロ', 'ホワイトハウス', 'シニア', 'マクド', '篠崎', '安藤', 'コービン', 'トランプ', 'メイ', 'ジョンソン'}\n",
            "(LOCATION) {'ブリュッセル', 'ポーランド', '米国', 'スコットランド', '中', 'アジア', '中国', '北アイルランド', 'ホワイトハウス', '欧州', 'チェコ', '英国', '大阪', 'ハンガリー', '東京', 'ロンドン', '米', 'スペイン', 'マドリード', '英', '関西', '日本'}\n",
            "(DATE) {'18', '17', '前日', '12', '2025', '2017', '13', '14', '1987', '50', '1950', '2018', '15', '20', '今日', '27', '2050'}\n",
            "(TIME) {'午後', '未明'}\n",
            "(MONEY) {'500', '12', '1', '619', '1000', '1477', '2'}\n",
            "(PERCENT) {'1', '7'}\n",
            "(ARTIFACT) {'NHS', '供給', 'DI', 'ノーベル', 'ワシントン', 'マイナス', 'プラス', 'CO', 'USTR', 'フォト', 'IR', 'EU', '第', 'SNP'}\n",
            "CPU times: user 6.62 ms, sys: 856 µs, total: 7.47 ms\n",
            "Wall time: 7.69 ms\n"
          ],
          "name": "stdout"
        }
      ]
    }
  ]
}