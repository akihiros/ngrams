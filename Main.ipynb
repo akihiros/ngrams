{
  "nbformat": 4,
  "nbformat_minor": 0,
  "metadata": {
    "colab": {
      "name": "Main",
      "provenance": [],
      "collapsed_sections": [],
      "include_colab_link": true
    },
    "kernelspec": {
      "name": "python3",
      "display_name": "Python 3"
    }
  },
  "cells": [
    {
      "cell_type": "markdown",
      "metadata": {
        "id": "view-in-github",
        "colab_type": "text"
      },
      "source": [
        "<a href=\"https://colab.research.google.com/github/akihiros/ngrams/blob/master/Main.ipynb\" target=\"_parent\"><img src=\"https://colab.research.google.com/assets/colab-badge.svg\" alt=\"Open In Colab\"/></a>"
      ]
    },
    {
      "cell_type": "markdown",
      "metadata": {
        "id": "v1v_jYpLQJZi",
        "colab_type": "text"
      },
      "source": [
        "# 準備"
      ]
    },
    {
      "cell_type": "code",
      "metadata": {
        "id": "AqpaPv6QObe5",
        "colab_type": "code",
        "colab": {}
      },
      "source": [
        "# driveのマウント：google colabでの動作を想定\n",
        "from google.colab import drive\n",
        "drive.mount('/content/drive')"
      ],
      "execution_count": 0,
      "outputs": []
    },
    {
      "cell_type": "code",
      "metadata": {
        "id": "RrC_PrLr29PT",
        "colab_type": "code",
        "colab": {}
      },
      "source": [
        "!pip install mecab-python3"
      ],
      "execution_count": 0,
      "outputs": []
    },
    {
      "cell_type": "code",
      "metadata": {
        "id": "ks5UP0tswIBS",
        "colab_type": "code",
        "colab": {}
      },
      "source": [
        "# 環境によってpathを指定すること\n",
        "FIFAnews_E = '/content/drive/My Drive/data/NLP/text/FIFAnews-English.txt'\n",
        "FIFAnews_F = '/content/drive/My Drive/data/NLP/text/FIFAnews-French.txt'\n",
        "FIFAnews_G = '/content/drive/My Drive/data/NLP/text/FIFAnews-German.txt'\n",
        "FIFAnews_S = '/content/drive/My Drive/data/NLP/text/FIFAnews-Spanish.txt'\n",
        "result_text = '/content/drive/My Drive/data/NLP/result.txt'\n",
        "test_text = '/content/drive/My Drive/data/NLP/test.txt'"
      ],
      "execution_count": 0,
      "outputs": []
    },
    {
      "cell_type": "markdown",
      "metadata": {
        "id": "Og8uRJdsMq6t",
        "colab_type": "text"
      },
      "source": [
        "# 3-5\n",
        "\n",
        "- 文字列バイグラムの頻度を求める"
      ]
    },
    {
      "cell_type": "code",
      "metadata": {
        "id": "VjiYQxTwMsvA",
        "colab_type": "code",
        "colab": {}
      },
      "source": [
        "import codecs\n",
        "import collections\n",
        "\n",
        "\n",
        "def n_gram(target, n):\n",
        "    \"\"\"n_gramを取得する関数\n",
        "\n",
        "    Args:\n",
        "        target(str): n_gramを取得したい文字列\n",
        "        n(int): 1ならunigram, 2ならbigram, 3ならtrigram\n",
        "    \n",
        "    Returns:\n",
        "        list: n_gramのリスト\n",
        "    \"\"\"\n",
        "    return [ target[idx:idx + n] for idx in range(len(target) - n + 1)]\n",
        "\n",
        "\n",
        "def counter_n(target):\n",
        "    \"\"\"n_gramのリストの頻度を数え、頻度順に整列する関数\n",
        "\n",
        "    Args:\n",
        "        target(str):n_gramを取得したい文字列\n",
        "    \"\"\"\n",
        "    c = collections.Counter(n_gram(target, 2))\n",
        "    print(n_gram(target, 2), c, '', sep='\\n')\n",
        "\n",
        "\n",
        "with codecs.open(FIFAnews_E, 'r', 'shift-jis') as f:\n",
        "    counter_n(f.read())\n",
        "\n",
        "with codecs.open(FIFAnews_F, 'r', 'shift-jis') as f:\n",
        "    counter_n(f.read())\n",
        "\n",
        "with codecs.open(FIFAnews_G, 'r', 'shift-jis') as f:\n",
        "    counter_n(f.read())\n",
        "\n",
        "with codecs.open(FIFAnews_S, 'r', 'shift-jis') as f:\n",
        "    counter_n(f.read())\n"
      ],
      "execution_count": 0,
      "outputs": []
    },
    {
      "cell_type": "markdown",
      "metadata": {
        "id": "WULPMnn74Cre",
        "colab_type": "text"
      },
      "source": [
        "# 3-6\n",
        "\n",
        "- 品詞の頻度をカウントする\n",
        "- 連続する品詞の確率を計算する"
      ]
    },
    {
      "cell_type": "code",
      "metadata": {
        "id": "wlRP1R0L39xb",
        "colab_type": "code",
        "colab": {}
      },
      "source": [
        "# # 手がかり句による手法\n",
        "# import codecs\n",
        "\n",
        "# # utf-8でエラー吐いたら引数に'shift-jis'を入れること\n",
        "# with codecs.open(result_text, 'r') as f:\n",
        "#     countbox = list()\n",
        "#     print('リストの中身は{}個です'.format(len(countbox)))\n",
        "#     line = f.readline()\n",
        "#     while line:\n",
        "#         if '名詞' in line:\n",
        "#             countbox.append('名詞')\n",
        "#         elif '動詞' in line:\n",
        "#             countbox.append('動詞')\n",
        "#         elif '副詞' in line:\n",
        "#             countbox.append('副詞')\n",
        "#         elif '助詞' in line:\n",
        "#             countbox.append('助詞')\n",
        "#         elif '助動詞' in line:\n",
        "#             countbox.append('助動詞')\n",
        "#         elif '接頭詞' in line:\n",
        "#             countbox.append('接頭詞')\n",
        "#         elif '接続詞' in line:\n",
        "#             countbox.append('接続詞')\n",
        "#         elif '記号' in line:\n",
        "#             countbox.append('記号')\n",
        "#         elif 'EOS' in line:\n",
        "#             countbox.append('EOS')\n",
        "#         line = f.readline()\n",
        "#     print('リストの中身は{}個です'.format(len(countbox)))"
      ],
      "execution_count": 0,
      "outputs": []
    },
    {
      "cell_type": "code",
      "metadata": {
        "id": "fdlhqrdvMEcO",
        "colab_type": "code",
        "colab": {}
      },
      "source": [
        "# 他の方法：特定の位置（品詞）を切り取って比較\n",
        "import codecs\n",
        "\n",
        "# utf-8でエラーが起きたら引数に'shift-jis'を入れること\n",
        "with codecs.open(result_text, 'r') as f:\n",
        "    countbox = list()\n",
        "    line = f.readlines()\n",
        "    for i in range(len(line)):\n",
        "        try:\n",
        "            parts = line[i].split('\\t')[1].split(',')[0]\n",
        "            countbox.append(parts)\n",
        "        except IndexError:\n",
        "            pass\n",
        "\n",
        "    x_list = list(set(countbox))\n",
        "\n",
        "# utf-8でエラーが起きたら引数に'shift-jis'を入れること\n",
        "with codecs.open(result_text, 'r') as f:\n",
        "    countbox = list()\n",
        "    print('リストの中身は{}個です'.format(len(countbox)))\n",
        "    line = f.readlines()\n",
        "    for i in range(len(line)):\n",
        "        if 'EOS' in line[i]:\n",
        "            countbox.append('EOS')\n",
        "            continue\n",
        "        \n",
        "        try:\n",
        "            parts = line[i].split('\\t')[1].split(',')[0]\n",
        "            for i in range(len(x_list)):\n",
        "                if x_list[i] == parts:\n",
        "                    countbox.append(x_list[i])\n",
        "        except IndexError:\n",
        "            pass\n",
        "                    \n",
        "    print('リストの中身は{}個です'.format(len(countbox)))"
      ],
      "execution_count": 0,
      "outputs": []
    },
    {
      "cell_type": "code",
      "metadata": {
        "id": "cjSUHowZ9zjy",
        "colab_type": "code",
        "colab": {}
      },
      "source": [
        "from collections import defaultdict\n",
        "import collections\n",
        "\n",
        "\n",
        "def n_gram(target, n):\n",
        "    \"\"\"n_gramを取得する関数\n",
        "\n",
        "    Args:\n",
        "        target(str): n_gramを取得したい文字列\n",
        "        n(int): 1ならunigram, 2ならbigram, 3ならtrigram\n",
        "    \n",
        "    Returns:\n",
        "        list: n_gramのリスト\n",
        "    \"\"\"\n",
        "    return [ target[idx:idx + n] for idx in range(len(target) - n + 1)]\n",
        "\n",
        "\n",
        "def get_unique_list(seq):\n",
        "    \"\"\"2次元リストの重複する要素を整列する関数\n",
        "\n",
        "    Args:\n",
        "        seq(list): n_gramのリスト\n",
        "    \n",
        "    Returns:\n",
        "        list\n",
        "    \"\"\"\n",
        "    seen = []\n",
        "    return [x for x in seq if x not in seen and not seen.append(x)]\n",
        "\n",
        "\n",
        "def count_n_gram(target, n):\n",
        "    \"\"\"重複無しの品詞のn_gramを計算する関数\n",
        "\n",
        "    Args:\n",
        "        target(list)): 重複有りのn_gramのリスト\n",
        "        n(int): gram数\n",
        "\n",
        "    Returns:\n",
        "        uniqu_target(list): 重複無しの品詞のn_gram\n",
        "        counter(): uniqu_targetの各要素の数\n",
        "    \"\"\"\n",
        "    unique_target = get_unique_list(target)\n",
        "    counter = [0] * len(unique_target)\n",
        "    for i in range(len(target)):\n",
        "        for l in range(len(unique_target)):\n",
        "            if target[i] == unique_target[l]:\n",
        "                counter[l] += 1\n",
        "\n",
        "    return unique_target, counter\n",
        "    \n",
        "\n",
        "c = collections.Counter(countbox)\n",
        "b = n_gram(countbox, 2)\n",
        "uniqu_target, counter = count_n_gram(b, 2)\n",
        "\n",
        "print(countbox[:10], c, b, '\\n', sep=\"\\n\")  # 品詞のcount, 品詞のカウント, 品詞のバイグラム\n",
        "print(uniqu_target, counter, sep='\\n')  # 重複無しの品詞のバイグラム, その数"
      ],
      "execution_count": 0,
      "outputs": []
    },
    {
      "cell_type": "code",
      "metadata": {
        "id": "L3bWkO14I_at",
        "colab_type": "code",
        "colab": {}
      },
      "source": [
        "import numpy as np\n",
        "\n",
        "x = np.array(counter)\n",
        "\n",
        "for i in range(len(x)):\n",
        "    print('{} {} : {}%'.format(b[np.argsort(x)[::-1][i]], np.sort(x)[::-1][i], np.sort(x)[::-1][i]/len(x)))"
      ],
      "execution_count": 0,
      "outputs": []
    },
    {
      "cell_type": "markdown",
      "metadata": {
        "id": "H4KsAs-s3_AZ",
        "colab_type": "text"
      },
      "source": [
        "# 4-3\n",
        "\n",
        "- test.txtを形態素解析し、単語をカウントする\n",
        "- 一般代名詞の中で頻度が多い順に１０番目までを頻度と求める"
      ]
    },
    {
      "cell_type": "code",
      "metadata": {
        "id": "ridtSe7S3BtW",
        "colab_type": "code",
        "colab": {}
      },
      "source": [
        "import MeCab\n",
        "import codecs\n",
        "\n",
        "mecab = MeCab.Tagger('-Ochasen')\n",
        "mecab.parse('')\n",
        "\n",
        "with codecs.open(test_text, 'r', 'shift-jis') as f:\n",
        "    s = f.read()\n",
        "    node = mecab.parseToNode(s)\n",
        "\n",
        "origin = []\n",
        "parts = []\n",
        "general_noun = []\n",
        "while node:\n",
        "    origin.append(node.surface)\n",
        "    parts.append(node.feature.split(',')[0])\n",
        "    if node.feature.split(',')[0] == '名詞' and node.feature.split(',')[1] == '一般':\n",
        "        general_noun.append(node.surface)\n",
        "    node = node.next\n",
        "\n",
        "print(origin, parts, sep='\\n')"
      ],
      "execution_count": 0,
      "outputs": []
    },
    {
      "cell_type": "code",
      "metadata": {
        "id": "mHFxHQNJ3Ynv",
        "colab_type": "code",
        "colab": {}
      },
      "source": [
        "import collections\n",
        "\n",
        "c = collections.Counter(parts)\n",
        "g = collections.Counter(general_noun)\n",
        "print(c, g, sep='\\n')"
      ],
      "execution_count": 0,
      "outputs": []
    }
  ]
}